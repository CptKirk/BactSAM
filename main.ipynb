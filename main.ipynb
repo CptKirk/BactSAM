{
 "cells": [
  {
   "cell_type": "code",
   "execution_count": null,
   "metadata": {},
   "outputs": [],
   "source": [
    "from src.download_raw import download_raw\n",
    "from src.split_timeseries import split_timeseries\n",
    "from src.split_to_patches import split_to_patches\n",
    "from src.create_bactsam_dataset import create_bactsam_dataset\n",
    "from src.train_bactsam_model import train_bactsam_model\n",
    "from src.run_inference import run_inference"
   ]
  },
  {
   "cell_type": "markdown",
   "metadata": {},
   "source": [
    "# Step one\n",
    "We need to first download our raw OME-TIFF image stack into the `./raw` folder. The name of the image will be `raw_bact.tif`."
   ]
  },
  {
   "cell_type": "code",
   "execution_count": null,
   "metadata": {},
   "outputs": [],
   "source": [
    "url = \"\" # CHANGE ME\n",
    "download_raw(url)"
   ]
  },
  {
   "cell_type": "markdown",
   "metadata": {},
   "source": [
    "# Step two\n",
    "We need to extract each time step as its own OME-TIFF image. Each image will be saved into the `./raw/time_steps` folder and will have a name based on this template: `bact_sub_000.tif`. There should be in total 100 images after this operation."
   ]
  },
  {
   "cell_type": "code",
   "execution_count": null,
   "metadata": {},
   "outputs": [],
   "source": [
    "split_timeseries()"
   ]
  },
  {
   "cell_type": "markdown",
   "metadata": {},
   "source": [
    "# Step three\n",
    "We need to split each time step image and ground truth mask into 64 patches of 256x256 pixels as the original image has a size of 2048x2048. The ground truth masks are located in the `./ground_truth/masks` folder."
   ]
  },
  {
   "cell_type": "code",
   "execution_count": null,
   "metadata": {},
   "outputs": [],
   "source": [
    "split_to_patches(12, 1)"
   ]
  },
  {
   "cell_type": "markdown",
   "metadata": {},
   "source": [
    "# Step four\n",
    "After splitting the images and masks into patches, a dataset is created for training and saved to disk into the `./bact_dataset` folder."
   ]
  },
  {
   "cell_type": "code",
   "execution_count": null,
   "metadata": {},
   "outputs": [],
   "source": [
    "create_bactsam_dataset()"
   ]
  },
  {
   "cell_type": "markdown",
   "metadata": {},
   "source": [
    "# Step five\n",
    "Now we can train our model."
   ]
  },
  {
   "cell_type": "code",
   "execution_count": null,
   "metadata": {},
   "outputs": [],
   "source": [
    "train_bactsam_model(num_epochs=10, batch_size=15)"
   ]
  },
  {
   "cell_type": "markdown",
   "metadata": {},
   "source": [
    "# Step 6\n",
    "Run inference with the trained model, which is saved at `./model`. Will write output masks to `./outputs`."
   ]
  },
  {
   "cell_type": "code",
   "execution_count": null,
   "metadata": {},
   "outputs": [],
   "source": [
    "from datasets import Dataset\n",
    "raw_dataset = Dataset.load_from_disk(\"./bact_dataset/validation\") # type: ignore\n",
    "images = [raw_dataset[i][\"image\"] for i in range(0,4*64,4)] # need to select every 4th image because we artificially increased the number of images by 4\n",
    "run_inference(images)"
   ]
  }
 ],
 "metadata": {
  "kernelspec": {
   "display_name": "Python 3.11.6 ('.venv': venv)",
   "language": "python",
   "name": "python3"
  },
  "language_info": {
   "codemirror_mode": {
    "name": "ipython",
    "version": 3
   },
   "file_extension": ".py",
   "mimetype": "text/x-python",
   "name": "python",
   "nbconvert_exporter": "python",
   "pygments_lexer": "ipython3",
   "version": "3.11.8"
  },
  "orig_nbformat": 4,
  "vscode": {
   "interpreter": {
    "hash": "618128427c0ea74245c45f0f701c36c727b7caeb1865fda71965f29491f693d9"
   }
  }
 },
 "nbformat": 4,
 "nbformat_minor": 2
}
